{
 "cells": [
  {
   "cell_type": "markdown",
   "metadata": {},
   "source": [
    "# Installing Dependenies"
   ]
  },
  {
   "cell_type": "code",
   "execution_count": null,
   "metadata": {},
   "outputs": [],
   "source": [
    "%pip install yfinance"
   ]
  },
  {
   "cell_type": "code",
   "execution_count": 3,
   "metadata": {},
   "outputs": [],
   "source": [
    "import math as m\n",
    "#import tailb as tb\n",
    "import pandas as pd\n",
    "import numpy as np\n",
    "import yfinance as yf\n",
    "import matplotlib.pyplot as plt"
   ]
  },
  {
   "cell_type": "code",
   "execution_count": null,
   "metadata": {},
   "outputs": [],
   "source": [
    "import Mathematics as mt\n",
    "import Loan as ln\n",
    "import Pricer as pr\n",
    "import TimeSeriesAnalyzer as tsa\n",
    "import Risk_Management as rm\n",
    "import Data_Preprocessing as dp"
   ]
  },
  {
   "cell_type": "code",
   "execution_count": null,
   "metadata": {},
   "outputs": [],
   "source": [
    "from scipy.stats import norm, probplot"
   ]
  },
  {
   "cell_type": "code",
   "execution_count": null,
   "metadata": {},
   "outputs": [],
   "source": [
    "from sklearn.model_selection import LinearRegression\n",
    "from sklearn.model_selection import train_test_split\n"
   ]
  },
  {
   "cell_type": "code",
   "execution_count": null,
   "metadata": {},
   "outputs": [],
   "source": [
    "import Data_Preprocessing as dp\n",
    "\n",
    "portfolio = [\"AAPL\", \"MSFT\", \"GOOG\", \"IBM\" ,\"META\", \"AMZN\", \"AMD\", \"TSLA\"]\n",
    "start = \"2017-01-01\"\n",
    "end = \"2022-01-01\"\n",
    "\n",
    "data = dp.get_data(portfolio, start, end)\n",
    "dp.get_techinal_indcitors(data)\n",
    "\n"
   ]
  },
  {
   "cell_type": "code",
   "execution_count": null,
   "metadata": {},
   "outputs": [],
   "source": [
    "data[\"return\"] = data[\"Close\"].pct_change(1)\n",
    "data[\"Log_return\"] = np.log(data[\"return\"] + 1)\n",
    "\n",
    "for i in [14, 20, 50, 200]:\n",
    "    data[\"SMA\"] = tb.SMA(window = i)"
   ]
  },
  {
   "cell_type": "code",
   "execution_count": null,
   "metadata": {},
   "outputs": [],
   "source": [
    "plt.x()\n",
    "plt.y()\n",
    "\n",
    "plt.xlabel(\"\")\n",
    "plt.ylabel(\"\")\n",
    "plt.title(\"\")\n",
    "plt.legend()\n",
    "plt.show()"
   ]
  },
  {
   "cell_type": "code",
   "execution_count": null,
   "metadata": {},
   "outputs": [],
   "source": []
  },
  {
   "cell_type": "code",
   "execution_count": null,
   "metadata": {},
   "outputs": [],
   "source": []
  },
  {
   "cell_type": "code",
   "execution_count": null,
   "metadata": {},
   "outputs": [],
   "source": []
  },
  {
   "cell_type": "code",
   "execution_count": null,
   "metadata": {},
   "outputs": [],
   "source": [
    "# Example usage for 7.5% nominal yearly interest rate\n",
    "print(monthly_payment(80000, 0.075, 30))\n",
    "\n",
    "# Find the rate necessary to bring the payment down to $530\n",
    "target_payment = 530\n",
    "required_rate = find_rate_for_payment(target_payment, 80000, 30)\n",
    "print(f\"The required nominal yearly interest rate is: {required_rate * 100:.2f}%\")\n",
    "\n",
    "loan = Loan(100, 105, 0.04)\n",
    "print(\"Future Value: \", loan.Future_Value())\n",
    "print(\"Present Value: \", loan.Present_Value())\n",
    "print(\"Yield to Maturity: \", loan.Yield_to_Maturity())\n",
    "print(\"Duration: \", loan.Duration())\n",
    "print(\"Convexity: \", loan.Convexity())\n",
    "\n",
    "short = zero(1)\n",
    "Long = zero(10)\n",
    "print(\"Short Price: \", short.Price(Long.YTM(60)))\n",
    "print(\"Long Price: \", Long.Price(short.YTM(90)))\n",
    "print(\"Yield to Maturity: \", short.YTM(90))\n",
    "print(\"Yield to Maturity: \",Long.YTM(60))\n",
    "\n",
    "maturities = [2, 5, 10, 30]\n",
    "yields = [0.0249, 0.0246, 0.0266, 0.0306]\n",
    "\n",
    "plt.plot(maturities, yields)\n",
    "plt.xlabel(\"Maturity (years)\")\n",
    "plt.ylabel(\"Yield to Maturity\")\n",
    "plt.title(\"Yield to Maturity Curve\")\n",
    "plt.show()\n",
    "\n",
    "bonds = [zero(i) for i in maturities]\n",
    "prices = [bonds[i].Price(yields[i]) for i in range(0,4)]\n",
    "\n",
    "plt.plot(maturities, prices)\n",
    "plt.xlabel(\"Maturity (years)\")\n",
    "plt.ylabel(\"Price\")\n",
    "plt.title(\"Bond Prices\")\n",
    "plt.show()\n",
    "\n",
    "bond = bond(10, 4)\n",
    "print(bond.pv(0.04))\n",
    "\n",
    "ir = range(10)\n",
    "ir = [bond.pv(i*0.01) for i in ir]\n",
    "\n",
    "plt.plot(ir)\n",
    "plt.xlabel(\"Interest Rate\")\n",
    "plt.ylabel(\"Price\")\n",
    "plt.title(\"Bond Prices\")\n",
    "plt.show()"
   ]
  }
 ],
 "metadata": {
  "kernelspec": {
   "display_name": "Python 3",
   "language": "python",
   "name": "python3"
  },
  "language_info": {
   "codemirror_mode": {
    "name": "ipython",
    "version": 3
   },
   "file_extension": ".py",
   "mimetype": "text/x-python",
   "name": "python",
   "nbconvert_exporter": "python",
   "pygments_lexer": "ipython3",
   "version": "3.12.3"
  }
 },
 "nbformat": 4,
 "nbformat_minor": 2
}
